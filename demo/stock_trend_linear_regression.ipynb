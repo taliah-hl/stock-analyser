{
 "cells": [
  {
   "cell_type": "code",
   "execution_count": 1,
   "id": "817a6974",
   "metadata": {},
   "outputs": [],
   "source": [
    "import numpy as np\n",
    "import pandas as pd\n",
    "from scipy.signal import argrelextrema\n",
    "from matplotlib import pyplot as plt\n",
    "from sklearn.linear_model import LinearRegression\n",
    "\n",
    "import yfinance as yf"
   ]
  },
  {
   "cell_type": "markdown",
   "id": "2d836785",
   "metadata": {},
   "source": [
    "# Load stock info"
   ]
  },
  {
   "cell_type": "code",
   "execution_count": 2,
   "id": "32fd72aa",
   "metadata": {},
   "outputs": [
    {
     "name": "stdout",
     "output_type": "stream",
     "text": [
      "[*********************100%***********************]  1 of 1 completed\n"
     ]
    },
    {
     "data": {
      "text/html": [
       "<div>\n",
       "<style scoped>\n",
       "    .dataframe tbody tr th:only-of-type {\n",
       "        vertical-align: middle;\n",
       "    }\n",
       "\n",
       "    .dataframe tbody tr th {\n",
       "        vertical-align: top;\n",
       "    }\n",
       "\n",
       "    .dataframe thead th {\n",
       "        text-align: right;\n",
       "    }\n",
       "</style>\n",
       "<table border=\"1\" class=\"dataframe\">\n",
       "  <thead>\n",
       "    <tr style=\"text-align: right;\">\n",
       "      <th></th>\n",
       "      <th>Open</th>\n",
       "      <th>High</th>\n",
       "      <th>Low</th>\n",
       "      <th>Close</th>\n",
       "      <th>Adj Close</th>\n",
       "      <th>Volume</th>\n",
       "    </tr>\n",
       "    <tr>\n",
       "      <th>Date</th>\n",
       "      <th></th>\n",
       "      <th></th>\n",
       "      <th></th>\n",
       "      <th></th>\n",
       "      <th></th>\n",
       "      <th></th>\n",
       "    </tr>\n",
       "  </thead>\n",
       "  <tbody>\n",
       "    <tr>\n",
       "      <th>2020-12-31</th>\n",
       "      <td>131.365005</td>\n",
       "      <td>131.509995</td>\n",
       "      <td>129.149994</td>\n",
       "      <td>130.550003</td>\n",
       "      <td>130.475052</td>\n",
       "      <td>19242400</td>\n",
       "    </tr>\n",
       "    <tr>\n",
       "      <th>2021-01-04</th>\n",
       "      <td>131.042496</td>\n",
       "      <td>136.524994</td>\n",
       "      <td>129.625000</td>\n",
       "      <td>131.134995</td>\n",
       "      <td>131.059723</td>\n",
       "      <td>56064000</td>\n",
       "    </tr>\n",
       "    <tr>\n",
       "      <th>2021-01-05</th>\n",
       "      <td>130.997498</td>\n",
       "      <td>134.434998</td>\n",
       "      <td>130.869995</td>\n",
       "      <td>134.047501</td>\n",
       "      <td>133.970551</td>\n",
       "      <td>32276000</td>\n",
       "    </tr>\n",
       "    <tr>\n",
       "      <th>2021-01-06</th>\n",
       "      <td>132.225006</td>\n",
       "      <td>132.449997</td>\n",
       "      <td>125.860001</td>\n",
       "      <td>126.144997</td>\n",
       "      <td>126.072578</td>\n",
       "      <td>58042400</td>\n",
       "    </tr>\n",
       "    <tr>\n",
       "      <th>2021-01-07</th>\n",
       "      <td>129.675003</td>\n",
       "      <td>133.777496</td>\n",
       "      <td>128.865005</td>\n",
       "      <td>133.440002</td>\n",
       "      <td>133.363388</td>\n",
       "      <td>46148000</td>\n",
       "    </tr>\n",
       "    <tr>\n",
       "      <th>...</th>\n",
       "      <td>...</td>\n",
       "      <td>...</td>\n",
       "      <td>...</td>\n",
       "      <td>...</td>\n",
       "      <td>...</td>\n",
       "      <td>...</td>\n",
       "    </tr>\n",
       "    <tr>\n",
       "      <th>2021-08-09</th>\n",
       "      <td>204.460007</td>\n",
       "      <td>205.080002</td>\n",
       "      <td>201.429993</td>\n",
       "      <td>202.949997</td>\n",
       "      <td>202.949997</td>\n",
       "      <td>14644300</td>\n",
       "    </tr>\n",
       "    <tr>\n",
       "      <th>2021-08-10</th>\n",
       "      <td>203.220001</td>\n",
       "      <td>204.300003</td>\n",
       "      <td>198.350006</td>\n",
       "      <td>199.360001</td>\n",
       "      <td>199.360001</td>\n",
       "      <td>17923800</td>\n",
       "    </tr>\n",
       "    <tr>\n",
       "      <th>2021-08-11</th>\n",
       "      <td>200.429993</td>\n",
       "      <td>200.490005</td>\n",
       "      <td>194.300003</td>\n",
       "      <td>196.990005</td>\n",
       "      <td>196.990005</td>\n",
       "      <td>18592500</td>\n",
       "    </tr>\n",
       "    <tr>\n",
       "      <th>2021-08-12</th>\n",
       "      <td>198.699997</td>\n",
       "      <td>200.289993</td>\n",
       "      <td>196.199997</td>\n",
       "      <td>199.050003</td>\n",
       "      <td>199.050003</td>\n",
       "      <td>15165200</td>\n",
       "    </tr>\n",
       "    <tr>\n",
       "      <th>2021-08-13</th>\n",
       "      <td>199.050003</td>\n",
       "      <td>202.139999</td>\n",
       "      <td>198.509995</td>\n",
       "      <td>201.880005</td>\n",
       "      <td>201.880005</td>\n",
       "      <td>18282500</td>\n",
       "    </tr>\n",
       "  </tbody>\n",
       "</table>\n",
       "<p>156 rows × 6 columns</p>\n",
       "</div>"
      ],
      "text/plain": [
       "                  Open        High         Low       Close   Adj Close  \\\n",
       "Date                                                                     \n",
       "2020-12-31  131.365005  131.509995  129.149994  130.550003  130.475052   \n",
       "2021-01-04  131.042496  136.524994  129.625000  131.134995  131.059723   \n",
       "2021-01-05  130.997498  134.434998  130.869995  134.047501  133.970551   \n",
       "2021-01-06  132.225006  132.449997  125.860001  126.144997  126.072578   \n",
       "2021-01-07  129.675003  133.777496  128.865005  133.440002  133.363388   \n",
       "...                ...         ...         ...         ...         ...   \n",
       "2021-08-09  204.460007  205.080002  201.429993  202.949997  202.949997   \n",
       "2021-08-10  203.220001  204.300003  198.350006  199.360001  199.360001   \n",
       "2021-08-11  200.429993  200.490005  194.300003  196.990005  196.990005   \n",
       "2021-08-12  198.699997  200.289993  196.199997  199.050003  199.050003   \n",
       "2021-08-13  199.050003  202.139999  198.509995  201.880005  201.880005   \n",
       "\n",
       "              Volume  \n",
       "Date                  \n",
       "2020-12-31  19242400  \n",
       "2021-01-04  56064000  \n",
       "2021-01-05  32276000  \n",
       "2021-01-06  58042400  \n",
       "2021-01-07  46148000  \n",
       "...              ...  \n",
       "2021-08-09  14644300  \n",
       "2021-08-10  17923800  \n",
       "2021-08-11  18592500  \n",
       "2021-08-12  15165200  \n",
       "2021-08-13  18282500  \n",
       "\n",
       "[156 rows x 6 columns]"
      ]
     },
     "execution_count": 2,
     "metadata": {},
     "output_type": "execute_result"
    }
   ],
   "source": [
    "# Download stock info\n",
    "# stock_info = yf.download(\"^HSI\", start=\"2000-01-01\", end=\"2003-06-15\")\n",
    "# stock_info = yf.download(\"AAPL\", start=\"2000-01-01\", end=\"2003-06-15\")\n",
    "# stock_info = yf.download(\"AAPL\", start=\"2000-01-01\", end=\"2021-08-16\")\n",
    "stock_info = yf.download(\"NVDA\", start=\"2021-01-01\", end=\"2021-08-16\")\n",
    "stock_info"
   ]
  },
  {
   "cell_type": "code",
   "execution_count": 3,
   "id": "cf2e15f7",
   "metadata": {},
   "outputs": [
    {
     "data": {
      "text/html": [
       "<div>\n",
       "<style scoped>\n",
       "    .dataframe tbody tr th:only-of-type {\n",
       "        vertical-align: middle;\n",
       "    }\n",
       "\n",
       "    .dataframe tbody tr th {\n",
       "        vertical-align: top;\n",
       "    }\n",
       "\n",
       "    .dataframe thead th {\n",
       "        text-align: right;\n",
       "    }\n",
       "</style>\n",
       "<table border=\"1\" class=\"dataframe\">\n",
       "  <thead>\n",
       "    <tr style=\"text-align: right;\">\n",
       "      <th></th>\n",
       "      <th>Close</th>\n",
       "    </tr>\n",
       "    <tr>\n",
       "      <th>Date</th>\n",
       "      <th></th>\n",
       "    </tr>\n",
       "  </thead>\n",
       "  <tbody>\n",
       "    <tr>\n",
       "      <th>2020-12-31</th>\n",
       "      <td>130.550003</td>\n",
       "    </tr>\n",
       "    <tr>\n",
       "      <th>2021-01-04</th>\n",
       "      <td>131.134995</td>\n",
       "    </tr>\n",
       "    <tr>\n",
       "      <th>2021-01-05</th>\n",
       "      <td>134.047501</td>\n",
       "    </tr>\n",
       "    <tr>\n",
       "      <th>2021-01-06</th>\n",
       "      <td>126.144997</td>\n",
       "    </tr>\n",
       "    <tr>\n",
       "      <th>2021-01-07</th>\n",
       "      <td>133.440002</td>\n",
       "    </tr>\n",
       "    <tr>\n",
       "      <th>...</th>\n",
       "      <td>...</td>\n",
       "    </tr>\n",
       "    <tr>\n",
       "      <th>2021-08-09</th>\n",
       "      <td>202.949997</td>\n",
       "    </tr>\n",
       "    <tr>\n",
       "      <th>2021-08-10</th>\n",
       "      <td>199.360001</td>\n",
       "    </tr>\n",
       "    <tr>\n",
       "      <th>2021-08-11</th>\n",
       "      <td>196.990005</td>\n",
       "    </tr>\n",
       "    <tr>\n",
       "      <th>2021-08-12</th>\n",
       "      <td>199.050003</td>\n",
       "    </tr>\n",
       "    <tr>\n",
       "      <th>2021-08-13</th>\n",
       "      <td>201.880005</td>\n",
       "    </tr>\n",
       "  </tbody>\n",
       "</table>\n",
       "<p>156 rows × 1 columns</p>\n",
       "</div>"
      ],
      "text/plain": [
       "                 Close\n",
       "Date                  \n",
       "2020-12-31  130.550003\n",
       "2021-01-04  131.134995\n",
       "2021-01-05  134.047501\n",
       "2021-01-06  126.144997\n",
       "2021-01-07  133.440002\n",
       "...                ...\n",
       "2021-08-09  202.949997\n",
       "2021-08-10  199.360001\n",
       "2021-08-11  196.990005\n",
       "2021-08-12  199.050003\n",
       "2021-08-13  201.880005\n",
       "\n",
       "[156 rows x 1 columns]"
      ]
     },
     "execution_count": 3,
     "metadata": {},
     "output_type": "execute_result"
    }
   ],
   "source": [
    "# Load the stock close data\n",
    "stock_close_data = pd.DataFrame(stock_info[\"Close\"])\n",
    "stock_close_data"
   ]
  },
  {
   "cell_type": "code",
   "execution_count": 4,
   "id": "15e049b2",
   "metadata": {},
   "outputs": [
    {
     "data": {
      "image/png": "[encoded data removed]",
      "text/plain": [
       "<Figure size 640x480 with 1 Axes>"
      ]
     },
     "metadata": {
      "needs_background": "light"
     },
     "output_type": "display_data"
    }
   ],
   "source": [
    "# Plot data\n",
    "plt.figure(figsize=(8, 6), dpi=80)\n",
    "plt.plot(stock_close_data, label=\"Closing price\", color=\"slategrey\")\n",
    "plt.legend()\n",
    "plt.show()"
   ]
  },
  {
   "cell_type": "markdown",
   "id": "1a913a73",
   "metadata": {},
   "source": [
    "# Find Trend"
   ]
  },
  {
   "cell_type": "code",
   "execution_count": 5,
   "id": "7927a31b",
   "metadata": {},
   "outputs": [],
   "source": [
    "X = np.array(stock_close_data.reset_index().index).reshape(-1, 1)\n",
    "Y = stock_close_data[\"Close\"]\n",
    "linear_regressor = LinearRegression()\n",
    "linear_regressor.fit(X, Y)\n",
    "Y_pred = linear_regressor.predict(X)\n",
    "stock_trend = pd.DataFrame(Y_pred, columns=[\"Data\"])\n",
    "stock_trend.index = stock_close_data.index"
   ]
  },
  {
   "cell_type": "code",
   "execution_count": 6,
   "id": "f981b854",
   "metadata": {},
   "outputs": [
    {
     "data": {
      "image/png": "[encoded data removed]",
      "text/plain": [
       "<Figure size 640x480 with 1 Axes>"
      ]
     },
     "metadata": {
      "needs_background": "light"
     },
     "output_type": "display_data"
    }
   ],
   "source": [
    "# Plot data\n",
    "plt.figure(figsize=(8, 6), dpi=80)\n",
    "plt.plot(stock_close_data, label=\"Closing price\", color=\"slategrey\")\n",
    "plt.plot(stock_trend, color='red')\n",
    "plt.legend()\n",
    "plt.show()"
   ]
  },
  {
   "cell_type": "code",
   "execution_count": 7,
   "id": "784ece70",
   "metadata": {},
   "outputs": [
    {
     "data": {
      "text/plain": [
       "array([0.51697533])"
      ]
     },
     "execution_count": 7,
     "metadata": {},
     "output_type": "execute_result"
    }
   ],
   "source": [
    "# Slope of best-fit line\n",
    "linear_regressor.coef_"
   ]
  },
  {
   "cell_type": "code",
   "execution_count": 8,
   "id": "33fef2e1",
   "metadata": {},
   "outputs": [
    {
     "name": "stdout",
     "output_type": "stream",
     "text": [
      "Uptrend\n"
     ]
    }
   ],
   "source": [
    "if linear_regressor.coef_ < 0:\n",
    "    print(\"Downtrend\")\n",
    "else:\n",
    "    print(\"Uptrend\")"
   ]
  }
 ],
 "metadata": {
  "kernelspec": {
   "display_name": "Python 3 (ipykernel)",
   "language": "python",
   "name": "python3"
  },
  "language_info": {
   "codemirror_mode": {
    "name": "ipython",
    "version": 3
   },
   "file_extension": ".py",
   "mimetype": "text/x-python",
   "name": "python",
   "nbconvert_exporter": "python",
   "pygments_lexer": "ipython3",
   "version": "3.7.9"
  }
 },
 "nbformat": 4,
 "nbformat_minor": 5
}
